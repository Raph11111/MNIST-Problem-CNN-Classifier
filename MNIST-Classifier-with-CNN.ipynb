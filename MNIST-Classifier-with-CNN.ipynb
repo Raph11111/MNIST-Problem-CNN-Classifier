{
 "cells": [
  {
   "cell_type": "markdown",
   "id": "6b58e18e-d633-45c2-87a7-9e2d8dbf7863",
   "metadata": {},
   "source": [
    "# Deep Learning\n",
    "## Exercise Sheet 05 - MNIST mit CNN\n",
    "### Prof. Dr. David Spieler\n",
    "### david.spieler@hm.edu\n",
    "### University of Applied Sciences Munich\n",
    "#### adapted from https://www.kaggle.com/code/geekysaint/solving-mnist-using-pytorch"
   ]
  },
  {
   "cell_type": "code",
   "execution_count": 56,
   "id": "59f66616-3b12-436b-9283-5459e41aeabe",
   "metadata": {},
   "outputs": [],
   "source": [
    "import torch\n",
    "import torch.nn as nn\n",
    "import torchvision\n",
    "from torchvision.datasets import MNIST\n",
    "import torchvision.transforms as transforms\n",
    "from torch.utils.data import random_split\n",
    "from torch.utils.data import DataLoader\n",
    "import torch.nn.functional as F\n",
    "import matplotlib.pyplot as plt"
   ]
  },
  {
   "cell_type": "markdown",
   "id": "e873d5ae-6dbd-40a3-abb1-cbb6c3725d6d",
   "metadata": {},
   "source": [
    "## 1. Loading MNIST dataset"
   ]
  },
  {
   "cell_type": "code",
   "execution_count": 57,
   "id": "71dfb390-7c95-4be2-8ad2-71f2653bc3a9",
   "metadata": {},
   "outputs": [],
   "source": [
    "# Load the data set (download if neccessary) and while loading the pixel data transform\n",
    "# to a PyTorch tensor\n",
    "mnist_dataset = MNIST(root = 'data/', train = True, transform = transforms.ToTensor())"
   ]
  },
  {
   "cell_type": "code",
   "execution_count": 58,
   "id": "e63d1cc2-5c69-4bce-875f-8c140524db26",
   "metadata": {},
   "outputs": [
    {
     "name": "stdout",
     "output_type": "stream",
     "text": [
      "Label: 5\n"
     ]
    },
    {
     "data": {
      "text/plain": [
       "<matplotlib.image.AxesImage at 0x17d6025d0>"
      ]
     },
     "execution_count": 58,
     "metadata": {},
     "output_type": "execute_result"
    },
    {
     "data": {
      "image/png": "[encoded data removed]",
      "text/plain": [
       "<Figure size 640x480 with 1 Axes>"
      ]
     },
     "metadata": {},
     "output_type": "display_data"
    }
   ],
   "source": [
    "# Extract the first image\n",
    "image_tensor, label = mnist_dataset[0]\n",
    "print('Label:', label)\n",
    "# Plot the image of the tensor - first dimension only has one value 0 since we only have\n",
    "# a single pixel plane (gray scale)\n",
    "plt.imshow(image_tensor[0,:,:],cmap = 'gray')"
   ]
  },
  {
   "cell_type": "markdown",
   "id": "26858a9e-5abd-4c8e-9d24-acefb1ece02f",
   "metadata": {},
   "source": [
    "### Question: What does the data look like?\n",
    "The data consists of 28x28 gray scale images of handwritten letters from 0 to 9."
   ]
  },
  {
   "cell_type": "markdown",
   "id": "f8b61fde-c9cd-4e99-a03d-4e46c984eaac",
   "metadata": {},
   "source": [
    "## 2. Split the data into train and test batches"
   ]
  },
  {
   "cell_type": "code",
   "execution_count": 59,
   "id": "bd2f51ae-9f35-4122-8675-d9d64e2a3984",
   "metadata": {},
   "outputs": [],
   "source": [
    "# split the 60k images into 50k training and 10k test images\n",
    "train, test = random_split(mnist_dataset, [50000, 10000]) "
   ]
  },
  {
   "cell_type": "code",
   "execution_count": 60,
   "id": "58375151-7786-4a59-acc9-22cf008d8a74",
   "metadata": {},
   "outputs": [],
   "source": [
    "# split the respective data sets further into batches of size batch_size\n",
    "batch_size = 128\n",
    "# enable dynamically loading images from the respective sets into batches\n",
    "train_loader = DataLoader(train, batch_size, shuffle = True) # randomize for training\n",
    "test_loader = DataLoader(test, batch_size, shuffle = False)  # static for testing"
   ]
  },
  {
   "cell_type": "markdown",
   "id": "9f553bfc-5a96-4de4-9163-d3a5eb51ee13",
   "metadata": {},
   "source": [
    "## 3. Build the model"
   ]
  },
  {
   "cell_type": "code",
   "execution_count": 61,
   "id": "e967ebcd-0cf8-476a-aeec-b54b0d4ee171",
   "metadata": {},
   "outputs": [],
   "source": [
    "class MnistModel(nn.Module):\n",
    "    def __init__(self):\n",
    "        super().__init__()\n",
    "        \n",
    "        self.out = nn.Sequential(\n",
    "            nn.Conv2d(1, 32, 3),                              \n",
    "            nn.ReLU(),                      \n",
    "            nn.MaxPool2d(2), \n",
    "\n",
    "            nn.Conv2d(32, 64, 3),     \n",
    "            nn.ReLU(),                      \n",
    "            nn.MaxPool2d(2), \n",
    "            \n",
    "            nn.Dropout(0.5),\n",
    "            nn.Flatten(1),\n",
    "            nn.Linear(64 * 5 * 5, 10)\n",
    "        )\n",
    "        \n",
    "    def forward(self, x):\n",
    "        return self.out(x)"
   ]
  },
  {
   "cell_type": "markdown",
   "id": "0e7b930d-8940-42be-bc3e-8eaa5c6ba0e7",
   "metadata": {},
   "source": [
    "### Question: What does the model look like?"
   ]
  },
  {
   "cell_type": "code",
   "execution_count": 62,
   "id": "94d7233c-8433-4e53-a104-9d28b8e69f79",
   "metadata": {},
   "outputs": [],
   "source": [
    "def accuracy(outputs, labels):\n",
    "    _, preds = torch.max(outputs, dim = 1)\n",
    "    return(torch.tensor(torch.sum(preds == labels).item()/ len(preds)))\n",
    "    \n",
    "def apply_batch(model, batch):\n",
    "    images, labels = batch\n",
    "    out = model(images) # generate predictions\n",
    "    loss = F.cross_entropy(out, labels) # calculate the loss\n",
    "    acc = accuracy(out, labels) # calculate accuracy\n",
    "    return (loss, acc)\n",
    "    \n",
    "def compute_loss_acc(outputs):\n",
    "    batch_losses = [loss for loss,acc in outputs]\n",
    "    epoch_loss = torch.stack(batch_losses).mean()\n",
    "    batch_accs = [acc for loss,acc in outputs]\n",
    "    epoch_acc = torch.stack(batch_accs).mean()\n",
    "    return(epoch_loss.item(), epoch_acc.item())"
   ]
  },
  {
   "cell_type": "code",
   "execution_count": 63,
   "id": "ba77d2b8-693a-4f91-beb3-b3b87e1ae009",
   "metadata": {},
   "outputs": [],
   "source": [
    "model = MnistModel()"
   ]
  },
  {
   "cell_type": "markdown",
   "id": "310eed4f-643b-4ba9-8f36-5719b48e72c6",
   "metadata": {},
   "source": [
    "## 4. Train the model"
   ]
  },
  {
   "cell_type": "code",
   "execution_count": 64,
   "id": "7ad635cc-ccf2-4d72-a0c7-701fb7b5401e",
   "metadata": {},
   "outputs": [],
   "source": [
    "def fit(epochs, lr, model, train_loader, test_loader, opt_func = torch.optim.Adam):\n",
    "    history = []\n",
    "    optimizer = opt_func(model.parameters(), lr)\n",
    "    for epoch in range(epochs):\n",
    "        \n",
    "        # training\n",
    "        result_train = []\n",
    "        for batch in train_loader:\n",
    "            loss, acc = apply_batch(model, batch)\n",
    "            loss.backward()\n",
    "            result_train.append((loss, acc))\n",
    "            optimizer.step()\n",
    "            optimizer.zero_grad()\n",
    "        \n",
    "        # testing\n",
    "        result_test = [apply_batch(model, batch) for batch in test_loader]\n",
    "\n",
    "        train_loss, train_acc = compute_loss_acc(result_train)\n",
    "        test_loss, test_acc = compute_loss_acc(result_test)\n",
    "        \n",
    "        print(\"Epoch #{}, train_loss: {:.4f}, train_acc: {:.4f}, test_loss: {:.4f}, test_acc: {:.4f}\".format(epoch, train_loss, train_acc, test_loss, test_acc))\n",
    "        \n",
    "        history.append((train_loss, train_acc, test_loss, test_acc))\n",
    "    return(history)"
   ]
  },
  {
   "cell_type": "code",
   "execution_count": 65,
   "id": "ba450432-a897-430c-8578-5d736b6bc7d8",
   "metadata": {},
   "outputs": [
    {
     "name": "stdout",
     "output_type": "stream",
     "text": [
      "Epoch #0, train_loss: 0.3454, train_acc: 0.8961, test_loss: 0.1373, test_acc: 0.9598\n",
      "Epoch #1, train_loss: 0.1110, train_acc: 0.9658, test_loss: 0.0948, test_acc: 0.9716\n",
      "Epoch #2, train_loss: 0.0848, train_acc: 0.9742, test_loss: 0.0830, test_acc: 0.9738\n",
      "Epoch #3, train_loss: 0.0737, train_acc: 0.9769, test_loss: 0.0859, test_acc: 0.9745\n",
      "Epoch #4, train_loss: 0.0628, train_acc: 0.9805, test_loss: 0.0648, test_acc: 0.9808\n",
      "Epoch #5, train_loss: 0.0587, train_acc: 0.9819, test_loss: 0.0632, test_acc: 0.9801\n",
      "Epoch #6, train_loss: 0.0532, train_acc: 0.9833, test_loss: 0.0591, test_acc: 0.9823\n",
      "Epoch #7, train_loss: 0.0493, train_acc: 0.9849, test_loss: 0.0558, test_acc: 0.9826\n",
      "Epoch #8, train_loss: 0.0474, train_acc: 0.9841, test_loss: 0.0580, test_acc: 0.9833\n",
      "Epoch #9, train_loss: 0.0439, train_acc: 0.9862, test_loss: 0.0527, test_acc: 0.9840\n",
      "Epoch #10, train_loss: 0.0429, train_acc: 0.9867, test_loss: 0.0536, test_acc: 0.9836\n",
      "Epoch #11, train_loss: 0.0384, train_acc: 0.9880, test_loss: 0.0556, test_acc: 0.9839\n",
      "Epoch #12, train_loss: 0.0391, train_acc: 0.9872, test_loss: 0.0533, test_acc: 0.9834\n",
      "Epoch #13, train_loss: 0.0363, train_acc: 0.9880, test_loss: 0.0519, test_acc: 0.9845\n",
      "Epoch #14, train_loss: 0.0348, train_acc: 0.9892, test_loss: 0.0488, test_acc: 0.9856\n"
     ]
    }
   ],
   "source": [
    "history = fit(15, 0.001, model, train_loader, test_loader)"
   ]
  },
  {
   "cell_type": "markdown",
   "id": "ec644951-9826-4b7c-a6a9-1cdc8bd062df",
   "metadata": {},
   "source": [
    "## 5. Evaluate the model"
   ]
  },
  {
   "cell_type": "code",
   "execution_count": 66,
   "id": "a7335599-6b9c-4330-89ab-56ea41843680",
   "metadata": {},
   "outputs": [
    {
     "data": {
      "text/plain": [
       "<matplotlib.legend.Legend at 0x17d4f6750>"
      ]
     },
     "execution_count": 66,
     "metadata": {},
     "output_type": "execute_result"
    },
    {
     "data": {
      "image/png": "[encoded data removed]",
      "text/plain": [
       "<Figure size 640x480 with 1 Axes>"
      ]
     },
     "metadata": {},
     "output_type": "display_data"
    }
   ],
   "source": [
    "test_accuracies = [test_acc for train_loss, train_acc, test_loss, test_acc in history]\n",
    "train_accuracies = [train_acc for train_loss, train_acc, test_loss, test_acc in history]\n",
    "\n",
    "plt.plot(train_accuracies)\n",
    "plt.plot(test_accuracies)\n",
    "\n",
    "plt.xlabel('epoch')\n",
    "plt.ylabel('accuracy')\n",
    "plt.legend(['train','test'])"
   ]
  },
  {
   "cell_type": "markdown",
   "id": "a8334827-0e5b-4c6c-82e9-5be96e2b06be",
   "metadata": {},
   "source": [
    "### Question: Does the plot look like a normal learning curve?\n",
    "The plot does not look like an ordinary learning curve since initially, the test accuracy already is higher than the train accuracy. But at least there is no direct sign of overfitting."
   ]
  },
  {
   "cell_type": "code",
   "execution_count": null,
   "id": "0a1f8b5d-582e-4b21-8d10-435a02cee6d1",
   "metadata": {},
   "outputs": [],
   "source": []
  }
 ],
 "metadata": {
  "kernelspec": {
   "display_name": "Python [conda env:base] *",
   "language": "python",
   "name": "conda-base-py"
  },
  "language_info": {
   "codemirror_mode": {
    "name": "ipython",
    "version": 3
   },
   "file_extension": ".py",
   "mimetype": "text/x-python",
   "name": "python",
   "nbconvert_exporter": "python",
   "pygments_lexer": "ipython3",
   "version": "3.12.7"
  }
 },
 "nbformat": 4,
 "nbformat_minor": 5
}
